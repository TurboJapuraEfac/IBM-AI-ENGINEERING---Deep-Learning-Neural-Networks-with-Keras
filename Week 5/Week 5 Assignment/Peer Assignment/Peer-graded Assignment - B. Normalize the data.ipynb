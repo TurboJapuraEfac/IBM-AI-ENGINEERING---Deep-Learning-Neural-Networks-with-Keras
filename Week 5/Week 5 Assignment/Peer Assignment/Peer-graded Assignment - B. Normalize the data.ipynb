{
 "cells": [
  {
   "cell_type": "markdown",
   "id": "ce684af0",
   "metadata": {},
   "source": [
    "# Peer-graded Assignment: Build a Regression Model in Keras"
   ]
  },
  {
   "cell_type": "markdown",
   "id": "64b0b608",
   "metadata": {},
   "source": [
    "## B. Normalize the data"
   ]
  },
  {
   "cell_type": "markdown",
   "id": "ca6bb323",
   "metadata": {},
   "source": [
    "### Import the needed python modules"
   ]
  },
  {
   "cell_type": "code",
   "execution_count": null,
   "id": "87ecbd51",
   "metadata": {},
   "outputs": [],
   "source": [
    "import pandas as pd\n",
    "import keras\n",
    "import numpy\n",
    "from keras.models import Sequential\n",
    "from keras.layers import Dense\n",
    "from sklearn.model_selection import train_test_split\n",
    "import statistics"
   ]
  },
  {
   "cell_type": "markdown",
   "id": "5e5357c5",
   "metadata": {},
   "source": [
    "### Import and Edit Data"
   ]
  },
  {
   "cell_type": "code",
   "execution_count": null,
   "id": "a7a1e443",
   "metadata": {},
   "outputs": [],
   "source": [
    "concrete_data = pd.read_csv('https://s3-api.us-geo.objectstorage.softlayer.net/cf-courses-data/CognitiveClass/DL0101EN/labs/data/concrete_data.csv')\n",
    "\n",
    "concrete_data_columns = concrete_data.columns\n",
    "predictors = concrete_data[concrete_data_columns[concrete_data_columns != 'Strength']] # all columns except Strength\n",
    "target = concrete_data['Strength'] # Strength column\n",
    "\n",
    "predictors = (predictors - predictors.mean()) / predictors.std()\n",
    "\n",
    "n_cols = predictors.shape[1]"
   ]
  },
  {
   "cell_type": "markdown",
   "id": "b9a74fbe",
   "metadata": {
    "tags": []
   },
   "source": [
    "### Define the Regression Model"
   ]
  },
  {
   "cell_type": "code",
   "execution_count": null,
   "id": "027412fe",
   "metadata": {},
   "outputs": [],
   "source": [
    "def regression_model():\n",
    "    model = Sequential()\n",
    "    model.add(Dense(10, activation='relu', input_shape=(n_cols,)))\n",
    "    model.add(Dense(1))\n",
    "    model.compile(optimizer='adam', loss='mean_squared_error')\n",
    "    return model\n",
    "\n",
    "model = regression_model()"
   ]
  },
  {
   "cell_type": "markdown",
   "id": "c67adf54",
   "metadata": {},
   "source": [
    "### Split the data, Train and Test the Model"
   ]
  },
  {
   "cell_type": "code",
   "execution_count": null,
   "id": "277ee1fb",
   "metadata": {},
   "outputs": [],
   "source": [
    "means = []\n",
    "for _ in range(50):\n",
    "    predictors_train, predictors_test, target_train, target_test = train_test_split(predictors, target, test_size=0.3)\n",
    "    model.fit(predictors_train, target_train, epochs=50, verbose=0)\n",
    "    means.append(model.evaluate(predictors_test, target_test, verbose=0))\n",
    "\n",
    "print(\"The mean of the mean squared errors is \" + str(statistics.mean(means)) + \" and the Standard Deviation is \" + str(statistics.stdev(means)))"
   ]
  },
  {
   "cell_type": "markdown",
   "id": "f2dc0a14-e5eb-41dd-af65-121a89b0a56c",
   "metadata": {},
   "source": [
    "### We observe that the normalisation process helps us improve the accuracy of our model, as the mean of the standard deviations is 47.63 which is more than 40% lower of the one we got in question A (80.26)."
   ]
  }
 ],
 "metadata": {
  "kernelspec": {
   "display_name": "Python",
   "language": "python",
   "name": "conda-env-python-py"
  },
  "language_info": {
   "codemirror_mode": {
    "name": "ipython",
    "version": 3
   },
   "file_extension": ".py",
   "mimetype": "text/x-python",
   "name": "python",
   "nbconvert_exporter": "python",
   "pygments_lexer": "ipython3",
   "version": "3.6.13"
  }
 },
 "nbformat": 4,
 "nbformat_minor": 5
}
