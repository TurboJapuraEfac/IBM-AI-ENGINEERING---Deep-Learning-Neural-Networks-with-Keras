{
  "nbformat": 4,
  "nbformat_minor": 0,
  "metadata": {
    "kernelspec": {
      "display_name": "Python 3",
      "language": "python",
      "name": "python3"
    },
    "language_info": {
      "codemirror_mode": {
        "name": "ipython",
        "version": 3
      },
      "file_extension": ".py",
      "mimetype": "text/x-python",
      "name": "python",
      "nbconvert_exporter": "python",
      "pygments_lexer": "ipython3",
      "version": "3.7.9"
    },
    "colab": {
      "name": "Week 5 - Build a Regression Model in Keras.ipynb",
      "provenance": []
    }
  },
  "cells": [
    {
      "cell_type": "markdown",
      "metadata": {
        "button": false,
        "new_sheet": false,
        "run_control": {
          "read_only": false
        },
        "id": "tuuga4wz4NAC"
      },
      "source": [
        "<a href=\"https://cognitiveclass.ai\"><img src = \"https://s3-api.us-geo.objectstorage.softlayer.net/cf-courses-data/CognitiveClass/Logos/organization_logo/organization_logo.png\" width = 400> </a>\n",
        "\n",
        "<h1 align=center><font size = 5>Build a Regression Model in Keras</font></h1>\n"
      ]
    },
    {
      "cell_type": "markdown",
      "metadata": {
        "button": false,
        "new_sheet": false,
        "run_control": {
          "read_only": false
        },
        "id": "S-nk-_mx4NAI"
      },
      "source": [
        "## Introduction\n"
      ]
    },
    {
      "cell_type": "markdown",
      "metadata": {
        "button": false,
        "new_sheet": false,
        "run_control": {
          "read_only": false
        },
        "id": "J5Zu40Ru4NAM"
      },
      "source": [
        "In this course project, you will build a regression model using the deep learning Keras library, and then you will experiment with increasing the number of training epochs and changing number of hidden layers and you will see how changing these parameters impacts the performance of the model.\n",
        "\n",
        "This assignment will be marked by your peers and will be worth 20% of your total grade. The breakdown will be:\n",
        "Part A: 5 marks\n",
        "Part B: 5 marks\n",
        "Part C: 5 marks\n",
        "Part D: 5 marks\n",
        "\n",
        "1. Assignment Topic:\n",
        "\n",
        "In this project, you will build a regression model using the Keras library to model the same data about concrete compressive strength that we used in labs 3.\n",
        "\n",
        "2. Concrete Data:\n",
        "\n",
        "For your convenience, the data can be found here again: https://cocl.us/concrete_data. To recap, the predictors in the data of concrete strength include:\n",
        "\n",
        "Cement\n",
        "Blast Furnace Slag\n",
        "Fly Ash\n",
        "Water\n",
        "Superplasticizer\n",
        "Coarse Aggregate\n",
        "Fine Aggregate\n",
        "3. Assignment Instructions:\n",
        "\n",
        "Please check the My Submission tab for detailed assignment instructions.\n",
        "\n",
        "4. How to submit:\n",
        "\n",
        "You will need to submit your code for each part in a Jupyter Notebook. Since each part builds on the previous one, you can submit the same notebook four times for grading. Please make sure that you:\n",
        "\n",
        "use Markdown to clearly label your code for each part,\n",
        "properly comment your code so that your peer who is grading your work is able to understand your code easily,\n",
        "include your comments and discussion of the difference in the mean of the mean squared errors among the different parts."
      ]
    },
    {
      "cell_type": "markdown",
      "metadata": {
        "id": "4_ebeAxX4NAP"
      },
      "source": [
        "<h2>Import the necessary libraries</h2>"
      ]
    },
    {
      "cell_type": "code",
      "metadata": {
        "id": "sVp_JExg4NAQ"
      },
      "source": [
        "import pandas as pd\n",
        "import numpy as np\n",
        "\n",
        "import matplotlib.pyplot as plt\n",
        "import seaborn as sns\n",
        "\n",
        "from tensorflow.keras import Sequential\n",
        "from tensorflow.keras.layers import Conv2D, Flatten, Dense\n",
        "\n",
        "from sklearn.model_selection import train_test_split\n",
        "from sklearn.metrics import mean_squared_error"
      ],
      "execution_count": 15,
      "outputs": []
    },
    {
      "cell_type": "markdown",
      "metadata": {
        "button": false,
        "new_sheet": false,
        "run_control": {
          "read_only": false
        },
        "id": "sjjspMmu4NAR"
      },
      "source": [
        "<a id=\"item31\"></a>\n"
      ]
    },
    {
      "cell_type": "markdown",
      "metadata": {
        "button": false,
        "new_sheet": false,
        "run_control": {
          "read_only": false
        },
        "id": "YgmRutmG4NAS"
      },
      "source": [
        "## Download and Clean Dataset\n"
      ]
    },
    {
      "cell_type": "markdown",
      "metadata": {
        "button": false,
        "new_sheet": false,
        "run_control": {
          "read_only": false
        },
        "id": "B1Fmiq0K4NAS"
      },
      "source": [
        "Let's start by importing the <em>pandas</em> and the Numpy libraries.\n"
      ]
    },
    {
      "cell_type": "code",
      "metadata": {
        "button": false,
        "new_sheet": false,
        "run_control": {
          "read_only": false
        },
        "colab": {
          "base_uri": "https://localhost:8080/",
          "height": 204
        },
        "id": "EqtbsXcC4NAT",
        "outputId": "a7e52d35-1d70-4aba-abb3-0d332c873484"
      },
      "source": [
        "url = 'https://cocl.us/concrete_data'\n",
        "\n",
        "# load concrete_data into pandas dataframe\n",
        "concrete_data = pd.read_csv(url)\n",
        "\n",
        "concrete_data.head()"
      ],
      "execution_count": 16,
      "outputs": [
        {
          "output_type": "execute_result",
          "data": {
            "text/html": [
              "<div>\n",
              "<style scoped>\n",
              "    .dataframe tbody tr th:only-of-type {\n",
              "        vertical-align: middle;\n",
              "    }\n",
              "\n",
              "    .dataframe tbody tr th {\n",
              "        vertical-align: top;\n",
              "    }\n",
              "\n",
              "    .dataframe thead th {\n",
              "        text-align: right;\n",
              "    }\n",
              "</style>\n",
              "<table border=\"1\" class=\"dataframe\">\n",
              "  <thead>\n",
              "    <tr style=\"text-align: right;\">\n",
              "      <th></th>\n",
              "      <th>Cement</th>\n",
              "      <th>Blast Furnace Slag</th>\n",
              "      <th>Fly Ash</th>\n",
              "      <th>Water</th>\n",
              "      <th>Superplasticizer</th>\n",
              "      <th>Coarse Aggregate</th>\n",
              "      <th>Fine Aggregate</th>\n",
              "      <th>Age</th>\n",
              "      <th>Strength</th>\n",
              "    </tr>\n",
              "  </thead>\n",
              "  <tbody>\n",
              "    <tr>\n",
              "      <th>0</th>\n",
              "      <td>540.0</td>\n",
              "      <td>0.0</td>\n",
              "      <td>0.0</td>\n",
              "      <td>162.0</td>\n",
              "      <td>2.5</td>\n",
              "      <td>1040.0</td>\n",
              "      <td>676.0</td>\n",
              "      <td>28</td>\n",
              "      <td>79.99</td>\n",
              "    </tr>\n",
              "    <tr>\n",
              "      <th>1</th>\n",
              "      <td>540.0</td>\n",
              "      <td>0.0</td>\n",
              "      <td>0.0</td>\n",
              "      <td>162.0</td>\n",
              "      <td>2.5</td>\n",
              "      <td>1055.0</td>\n",
              "      <td>676.0</td>\n",
              "      <td>28</td>\n",
              "      <td>61.89</td>\n",
              "    </tr>\n",
              "    <tr>\n",
              "      <th>2</th>\n",
              "      <td>332.5</td>\n",
              "      <td>142.5</td>\n",
              "      <td>0.0</td>\n",
              "      <td>228.0</td>\n",
              "      <td>0.0</td>\n",
              "      <td>932.0</td>\n",
              "      <td>594.0</td>\n",
              "      <td>270</td>\n",
              "      <td>40.27</td>\n",
              "    </tr>\n",
              "    <tr>\n",
              "      <th>3</th>\n",
              "      <td>332.5</td>\n",
              "      <td>142.5</td>\n",
              "      <td>0.0</td>\n",
              "      <td>228.0</td>\n",
              "      <td>0.0</td>\n",
              "      <td>932.0</td>\n",
              "      <td>594.0</td>\n",
              "      <td>365</td>\n",
              "      <td>41.05</td>\n",
              "    </tr>\n",
              "    <tr>\n",
              "      <th>4</th>\n",
              "      <td>198.6</td>\n",
              "      <td>132.4</td>\n",
              "      <td>0.0</td>\n",
              "      <td>192.0</td>\n",
              "      <td>0.0</td>\n",
              "      <td>978.4</td>\n",
              "      <td>825.5</td>\n",
              "      <td>360</td>\n",
              "      <td>44.30</td>\n",
              "    </tr>\n",
              "  </tbody>\n",
              "</table>\n",
              "</div>"
            ],
            "text/plain": [
              "   Cement  Blast Furnace Slag  Fly Ash  ...  Fine Aggregate  Age  Strength\n",
              "0   540.0                 0.0      0.0  ...           676.0   28     79.99\n",
              "1   540.0                 0.0      0.0  ...           676.0   28     61.89\n",
              "2   332.5               142.5      0.0  ...           594.0  270     40.27\n",
              "3   332.5               142.5      0.0  ...           594.0  365     41.05\n",
              "4   198.6               132.4      0.0  ...           825.5  360     44.30\n",
              "\n",
              "[5 rows x 9 columns]"
            ]
          },
          "metadata": {
            "tags": []
          },
          "execution_count": 16
        }
      ]
    },
    {
      "cell_type": "markdown",
      "metadata": {
        "button": false,
        "new_sheet": false,
        "run_control": {
          "read_only": false
        },
        "id": "OGUGcauZ4NAT"
      },
      "source": [
        "\n",
        "<strong>The dataset is about the compressive strength of different samples of concrete based on the volumes of the different ingredients that were used to make them. Ingredients include:</strong>\n",
        "\n",
        "<strong>1. Cement</strong>\n",
        "\n",
        "<strong>2. Blast Furnace Slag</strong>\n",
        "\n",
        "<strong>3. Fly Ash</strong>\n",
        "\n",
        "<strong>4. Water</strong>\n",
        "\n",
        "<strong>5. Superplasticizer</strong>\n",
        "\n",
        "<strong>6. Coarse Aggregate</strong>\n",
        "\n",
        "<strong>7. Fine Aggregate</strong>\n"
      ]
    },
    {
      "cell_type": "markdown",
      "metadata": {
        "button": false,
        "new_sheet": false,
        "run_control": {
          "read_only": false
        },
        "id": "OXfWj4sx4NAU"
      },
      "source": [
        "#### Let's check how many data points we have.\n"
      ]
    },
    {
      "cell_type": "code",
      "metadata": {
        "button": false,
        "new_sheet": false,
        "run_control": {
          "read_only": false
        },
        "colab": {
          "base_uri": "https://localhost:8080/"
        },
        "id": "bWr3eRVl4NAU",
        "outputId": "7d5d09f1-3a23-4a2c-fff2-68e75f14714e"
      },
      "source": [
        "concrete_data.shape"
      ],
      "execution_count": 17,
      "outputs": [
        {
          "output_type": "execute_result",
          "data": {
            "text/plain": [
              "(1030, 9)"
            ]
          },
          "metadata": {
            "tags": []
          },
          "execution_count": 17
        }
      ]
    },
    {
      "cell_type": "markdown",
      "metadata": {
        "button": false,
        "new_sheet": false,
        "run_control": {
          "read_only": false
        },
        "id": "LnXgquPm4NAV"
      },
      "source": [
        "So, there are approximately 1000 samples to train our model on. Because of the few samples, we have to be careful not to overfit the training data.\n"
      ]
    },
    {
      "cell_type": "code",
      "metadata": {
        "button": false,
        "new_sheet": false,
        "run_control": {
          "read_only": false
        },
        "colab": {
          "base_uri": "https://localhost:8080/",
          "height": 297
        },
        "id": "rmGpNqkt4NAW",
        "outputId": "3f635e01-6fec-4a01-9068-7067b16a4391"
      },
      "source": [
        "#Check for any missing values\n",
        "concrete_data.describe()"
      ],
      "execution_count": 18,
      "outputs": [
        {
          "output_type": "execute_result",
          "data": {
            "text/html": [
              "<div>\n",
              "<style scoped>\n",
              "    .dataframe tbody tr th:only-of-type {\n",
              "        vertical-align: middle;\n",
              "    }\n",
              "\n",
              "    .dataframe tbody tr th {\n",
              "        vertical-align: top;\n",
              "    }\n",
              "\n",
              "    .dataframe thead th {\n",
              "        text-align: right;\n",
              "    }\n",
              "</style>\n",
              "<table border=\"1\" class=\"dataframe\">\n",
              "  <thead>\n",
              "    <tr style=\"text-align: right;\">\n",
              "      <th></th>\n",
              "      <th>Cement</th>\n",
              "      <th>Blast Furnace Slag</th>\n",
              "      <th>Fly Ash</th>\n",
              "      <th>Water</th>\n",
              "      <th>Superplasticizer</th>\n",
              "      <th>Coarse Aggregate</th>\n",
              "      <th>Fine Aggregate</th>\n",
              "      <th>Age</th>\n",
              "      <th>Strength</th>\n",
              "    </tr>\n",
              "  </thead>\n",
              "  <tbody>\n",
              "    <tr>\n",
              "      <th>count</th>\n",
              "      <td>1030.000000</td>\n",
              "      <td>1030.000000</td>\n",
              "      <td>1030.000000</td>\n",
              "      <td>1030.000000</td>\n",
              "      <td>1030.000000</td>\n",
              "      <td>1030.000000</td>\n",
              "      <td>1030.000000</td>\n",
              "      <td>1030.000000</td>\n",
              "      <td>1030.000000</td>\n",
              "    </tr>\n",
              "    <tr>\n",
              "      <th>mean</th>\n",
              "      <td>281.167864</td>\n",
              "      <td>73.895825</td>\n",
              "      <td>54.188350</td>\n",
              "      <td>181.567282</td>\n",
              "      <td>6.204660</td>\n",
              "      <td>972.918932</td>\n",
              "      <td>773.580485</td>\n",
              "      <td>45.662136</td>\n",
              "      <td>35.817961</td>\n",
              "    </tr>\n",
              "    <tr>\n",
              "      <th>std</th>\n",
              "      <td>104.506364</td>\n",
              "      <td>86.279342</td>\n",
              "      <td>63.997004</td>\n",
              "      <td>21.354219</td>\n",
              "      <td>5.973841</td>\n",
              "      <td>77.753954</td>\n",
              "      <td>80.175980</td>\n",
              "      <td>63.169912</td>\n",
              "      <td>16.705742</td>\n",
              "    </tr>\n",
              "    <tr>\n",
              "      <th>min</th>\n",
              "      <td>102.000000</td>\n",
              "      <td>0.000000</td>\n",
              "      <td>0.000000</td>\n",
              "      <td>121.800000</td>\n",
              "      <td>0.000000</td>\n",
              "      <td>801.000000</td>\n",
              "      <td>594.000000</td>\n",
              "      <td>1.000000</td>\n",
              "      <td>2.330000</td>\n",
              "    </tr>\n",
              "    <tr>\n",
              "      <th>25%</th>\n",
              "      <td>192.375000</td>\n",
              "      <td>0.000000</td>\n",
              "      <td>0.000000</td>\n",
              "      <td>164.900000</td>\n",
              "      <td>0.000000</td>\n",
              "      <td>932.000000</td>\n",
              "      <td>730.950000</td>\n",
              "      <td>7.000000</td>\n",
              "      <td>23.710000</td>\n",
              "    </tr>\n",
              "    <tr>\n",
              "      <th>50%</th>\n",
              "      <td>272.900000</td>\n",
              "      <td>22.000000</td>\n",
              "      <td>0.000000</td>\n",
              "      <td>185.000000</td>\n",
              "      <td>6.400000</td>\n",
              "      <td>968.000000</td>\n",
              "      <td>779.500000</td>\n",
              "      <td>28.000000</td>\n",
              "      <td>34.445000</td>\n",
              "    </tr>\n",
              "    <tr>\n",
              "      <th>75%</th>\n",
              "      <td>350.000000</td>\n",
              "      <td>142.950000</td>\n",
              "      <td>118.300000</td>\n",
              "      <td>192.000000</td>\n",
              "      <td>10.200000</td>\n",
              "      <td>1029.400000</td>\n",
              "      <td>824.000000</td>\n",
              "      <td>56.000000</td>\n",
              "      <td>46.135000</td>\n",
              "    </tr>\n",
              "    <tr>\n",
              "      <th>max</th>\n",
              "      <td>540.000000</td>\n",
              "      <td>359.400000</td>\n",
              "      <td>200.100000</td>\n",
              "      <td>247.000000</td>\n",
              "      <td>32.200000</td>\n",
              "      <td>1145.000000</td>\n",
              "      <td>992.600000</td>\n",
              "      <td>365.000000</td>\n",
              "      <td>82.600000</td>\n",
              "    </tr>\n",
              "  </tbody>\n",
              "</table>\n",
              "</div>"
            ],
            "text/plain": [
              "            Cement  Blast Furnace Slag  ...          Age     Strength\n",
              "count  1030.000000         1030.000000  ...  1030.000000  1030.000000\n",
              "mean    281.167864           73.895825  ...    45.662136    35.817961\n",
              "std     104.506364           86.279342  ...    63.169912    16.705742\n",
              "min     102.000000            0.000000  ...     1.000000     2.330000\n",
              "25%     192.375000            0.000000  ...     7.000000    23.710000\n",
              "50%     272.900000           22.000000  ...    28.000000    34.445000\n",
              "75%     350.000000          142.950000  ...    56.000000    46.135000\n",
              "max     540.000000          359.400000  ...   365.000000    82.600000\n",
              "\n",
              "[8 rows x 9 columns]"
            ]
          },
          "metadata": {
            "tags": []
          },
          "execution_count": 18
        }
      ]
    },
    {
      "cell_type": "code",
      "metadata": {
        "colab": {
          "base_uri": "https://localhost:8080/",
          "height": 406
        },
        "id": "YqsOnv9G4NAW",
        "outputId": "dd1604b6-47f2-4c7b-ebb9-33ea163138e7"
      },
      "source": [
        "#Plot HeatMap of the dataset\n",
        "plt.figure(figsize=(12, 5))\n",
        "correlation_matrix = concrete_data.corr()\n",
        "sns.heatmap(correlation_matrix,cmap=\"Blues\", annot=True)\n",
        "plt.show()"
      ],
      "execution_count": 19,
      "outputs": [
        {
          "output_type": "display_data",
          "data": {
            "image/png": "[encoded data removed]",
            "text/plain": [
              "<Figure size 864x360 with 2 Axes>"
            ]
          },
          "metadata": {
            "tags": [],
            "needs_background": "light"
          }
        }
      ]
    },
    {
      "cell_type": "code",
      "metadata": {
        "button": false,
        "new_sheet": false,
        "run_control": {
          "read_only": false
        },
        "colab": {
          "base_uri": "https://localhost:8080/"
        },
        "id": "eG8qks4j4NAX",
        "outputId": "2cb331e2-b90d-4df1-859f-93f8218d8854"
      },
      "source": [
        "#Check for missing values\n",
        "concrete_data.isnull().sum()"
      ],
      "execution_count": 20,
      "outputs": [
        {
          "output_type": "execute_result",
          "data": {
            "text/plain": [
              "Cement                0\n",
              "Blast Furnace Slag    0\n",
              "Fly Ash               0\n",
              "Water                 0\n",
              "Superplasticizer      0\n",
              "Coarse Aggregate      0\n",
              "Fine Aggregate        0\n",
              "Age                   0\n",
              "Strength              0\n",
              "dtype: int64"
            ]
          },
          "metadata": {
            "tags": []
          },
          "execution_count": 20
        }
      ]
    },
    {
      "cell_type": "markdown",
      "metadata": {
        "button": false,
        "new_sheet": false,
        "run_control": {
          "read_only": false
        },
        "id": "MwIeXAte4NAY"
      },
      "source": [
        "The data looks very clean and is ready to be used to build our model.\n"
      ]
    },
    {
      "cell_type": "markdown",
      "metadata": {
        "button": false,
        "new_sheet": false,
        "run_control": {
          "read_only": false
        },
        "id": "ycol0vdD4NAZ"
      },
      "source": [
        "#### Split data into predictors and target . The target variable in this problem is the concrete sample strength. Therefore, our predictors will be all the other columns.\n"
      ]
    },
    {
      "cell_type": "code",
      "metadata": {
        "button": false,
        "new_sheet": false,
        "run_control": {
          "read_only": false
        },
        "id": "4l39VAY94NAZ"
      },
      "source": [
        "concrete_data_columns = concrete_data.columns\n",
        "predictors = concrete_data[concrete_data_columns[concrete_data_columns != 'Strength']] # Select all the columns but \"Strength\" as predictors\n",
        "target = concrete_data['Strength'] # Select \"Strength\" as labels"
      ],
      "execution_count": 21,
      "outputs": []
    },
    {
      "cell_type": "markdown",
      "metadata": {
        "button": false,
        "new_sheet": false,
        "run_control": {
          "read_only": false
        },
        "id": "TVOFMqju4NAa"
      },
      "source": [
        "#### Let's do a quick sanity check of the predictors and the target dataframes.\n"
      ]
    },
    {
      "cell_type": "code",
      "metadata": {
        "button": false,
        "new_sheet": false,
        "run_control": {
          "read_only": false
        },
        "colab": {
          "base_uri": "https://localhost:8080/",
          "height": 204
        },
        "id": "a5k2MdvA4NAa",
        "outputId": "32a28675-22e5-45c6-9493-ae2eba538e34"
      },
      "source": [
        "predictors.head()"
      ],
      "execution_count": 22,
      "outputs": [
        {
          "output_type": "execute_result",
          "data": {
            "text/html": [
              "<div>\n",
              "<style scoped>\n",
              "    .dataframe tbody tr th:only-of-type {\n",
              "        vertical-align: middle;\n",
              "    }\n",
              "\n",
              "    .dataframe tbody tr th {\n",
              "        vertical-align: top;\n",
              "    }\n",
              "\n",
              "    .dataframe thead th {\n",
              "        text-align: right;\n",
              "    }\n",
              "</style>\n",
              "<table border=\"1\" class=\"dataframe\">\n",
              "  <thead>\n",
              "    <tr style=\"text-align: right;\">\n",
              "      <th></th>\n",
              "      <th>Cement</th>\n",
              "      <th>Blast Furnace Slag</th>\n",
              "      <th>Fly Ash</th>\n",
              "      <th>Water</th>\n",
              "      <th>Superplasticizer</th>\n",
              "      <th>Coarse Aggregate</th>\n",
              "      <th>Fine Aggregate</th>\n",
              "      <th>Age</th>\n",
              "    </tr>\n",
              "  </thead>\n",
              "  <tbody>\n",
              "    <tr>\n",
              "      <th>0</th>\n",
              "      <td>540.0</td>\n",
              "      <td>0.0</td>\n",
              "      <td>0.0</td>\n",
              "      <td>162.0</td>\n",
              "      <td>2.5</td>\n",
              "      <td>1040.0</td>\n",
              "      <td>676.0</td>\n",
              "      <td>28</td>\n",
              "    </tr>\n",
              "    <tr>\n",
              "      <th>1</th>\n",
              "      <td>540.0</td>\n",
              "      <td>0.0</td>\n",
              "      <td>0.0</td>\n",
              "      <td>162.0</td>\n",
              "      <td>2.5</td>\n",
              "      <td>1055.0</td>\n",
              "      <td>676.0</td>\n",
              "      <td>28</td>\n",
              "    </tr>\n",
              "    <tr>\n",
              "      <th>2</th>\n",
              "      <td>332.5</td>\n",
              "      <td>142.5</td>\n",
              "      <td>0.0</td>\n",
              "      <td>228.0</td>\n",
              "      <td>0.0</td>\n",
              "      <td>932.0</td>\n",
              "      <td>594.0</td>\n",
              "      <td>270</td>\n",
              "    </tr>\n",
              "    <tr>\n",
              "      <th>3</th>\n",
              "      <td>332.5</td>\n",
              "      <td>142.5</td>\n",
              "      <td>0.0</td>\n",
              "      <td>228.0</td>\n",
              "      <td>0.0</td>\n",
              "      <td>932.0</td>\n",
              "      <td>594.0</td>\n",
              "      <td>365</td>\n",
              "    </tr>\n",
              "    <tr>\n",
              "      <th>4</th>\n",
              "      <td>198.6</td>\n",
              "      <td>132.4</td>\n",
              "      <td>0.0</td>\n",
              "      <td>192.0</td>\n",
              "      <td>0.0</td>\n",
              "      <td>978.4</td>\n",
              "      <td>825.5</td>\n",
              "      <td>360</td>\n",
              "    </tr>\n",
              "  </tbody>\n",
              "</table>\n",
              "</div>"
            ],
            "text/plain": [
              "   Cement  Blast Furnace Slag  Fly Ash  ...  Coarse Aggregate  Fine Aggregate  Age\n",
              "0   540.0                 0.0      0.0  ...            1040.0           676.0   28\n",
              "1   540.0                 0.0      0.0  ...            1055.0           676.0   28\n",
              "2   332.5               142.5      0.0  ...             932.0           594.0  270\n",
              "3   332.5               142.5      0.0  ...             932.0           594.0  365\n",
              "4   198.6               132.4      0.0  ...             978.4           825.5  360\n",
              "\n",
              "[5 rows x 8 columns]"
            ]
          },
          "metadata": {
            "tags": []
          },
          "execution_count": 22
        }
      ]
    },
    {
      "cell_type": "code",
      "metadata": {
        "button": false,
        "new_sheet": false,
        "run_control": {
          "read_only": false
        },
        "colab": {
          "base_uri": "https://localhost:8080/"
        },
        "id": "88l3raOx4NAa",
        "outputId": "b758804c-6b1e-426c-8bbf-f2325d588a27"
      },
      "source": [
        "target.head()"
      ],
      "execution_count": 23,
      "outputs": [
        {
          "output_type": "execute_result",
          "data": {
            "text/plain": [
              "0    79.99\n",
              "1    61.89\n",
              "2    40.27\n",
              "3    41.05\n",
              "4    44.30\n",
              "Name: Strength, dtype: float64"
            ]
          },
          "metadata": {
            "tags": []
          },
          "execution_count": 23
        }
      ]
    },
    {
      "cell_type": "code",
      "metadata": {
        "colab": {
          "base_uri": "https://localhost:8080/"
        },
        "id": "yx13CCrP4NAb",
        "outputId": "7cab5194-0f46-48c6-eb62-53d88969332f"
      },
      "source": [
        "# number of predictors\n",
        "n_cols = predictors.shape[1]\n",
        "print(n_cols)"
      ],
      "execution_count": 24,
      "outputs": [
        {
          "output_type": "stream",
          "text": [
            "8\n"
          ],
          "name": "stdout"
        }
      ]
    },
    {
      "cell_type": "markdown",
      "metadata": {
        "button": false,
        "new_sheet": false,
        "run_control": {
          "read_only": false
        },
        "id": "F-zGyo-v4NAb"
      },
      "source": [
        "## PART A. \n",
        "\n",
        "### Build a baseline model "
      ]
    },
    {
      "cell_type": "code",
      "metadata": {
        "id": "H1xxmuMF4NAb"
      },
      "source": [
        "# Hidden Layer: 1\n",
        "# Nodes: 10\n",
        "# Activation Function: ReLU\n",
        "# Optimizer: Adam\n",
        "# Loss Function: Mean Squared Error train_test_split: 70,30\n",
        "# Epochs: 50\n",
        "\n",
        "def regression_model():\n",
        "    # creation of the model\n",
        "    model = Sequential()\n",
        "    model.add(Dense(10, activation = 'relu', input_shape = (n_cols,)))\n",
        "    model.add(Dense(1))\n",
        "    \n",
        "    # compile the model\n",
        "    model.compile(optimizer = 'adam', loss = 'mean_squared_error')\n",
        "    return model"
      ],
      "execution_count": 25,
      "outputs": []
    },
    {
      "cell_type": "code",
      "metadata": {
        "id": "CmSLAi8j4NAc"
      },
      "source": [
        "# Splitting the data set for training and testing\n",
        "X_train, X_test, y_train, y_test = train_test_split(predictors, target, test_size=0.3, random_state=6)"
      ],
      "execution_count": 26,
      "outputs": []
    },
    {
      "cell_type": "code",
      "metadata": {
        "colab": {
          "base_uri": "https://localhost:8080/"
        },
        "id": "NHLlPZmO4NAf",
        "outputId": "6015911c-5da3-420b-c293-ff67e6ca4cc7"
      },
      "source": [
        "# build model for part A\n",
        "modelA = regression_model()\n",
        "epochs = 50\n",
        "modelA.fit(X_train,y_train,epochs = epochs, verbose = 1)"
      ],
      "execution_count": 27,
      "outputs": [
        {
          "output_type": "stream",
          "text": [
            "Epoch 1/50\n",
            "23/23 [==============================] - 1s 1ms/step - loss: 155924.7943\n",
            "Epoch 2/50\n",
            "23/23 [==============================] - 0s 1ms/step - loss: 48949.1003\n",
            "Epoch 3/50\n",
            "23/23 [==============================] - 0s 995us/step - loss: 10733.6704\n",
            "Epoch 4/50\n",
            "23/23 [==============================] - 0s 1ms/step - loss: 2218.3309\n",
            "Epoch 5/50\n",
            "23/23 [==============================] - 0s 992us/step - loss: 1143.4808\n",
            "Epoch 6/50\n",
            "23/23 [==============================] - 0s 998us/step - loss: 1002.8914\n",
            "Epoch 7/50\n",
            "23/23 [==============================] - 0s 891us/step - loss: 951.7393\n",
            "Epoch 8/50\n",
            "23/23 [==============================] - 0s 1ms/step - loss: 955.3620\n",
            "Epoch 9/50\n",
            "23/23 [==============================] - 0s 1ms/step - loss: 853.8142\n",
            "Epoch 10/50\n",
            "23/23 [==============================] - 0s 1ms/step - loss: 800.4909\n",
            "Epoch 11/50\n",
            "23/23 [==============================] - 0s 1ms/step - loss: 739.3194\n",
            "Epoch 12/50\n",
            "23/23 [==============================] - 0s 1ms/step - loss: 716.8409\n",
            "Epoch 13/50\n",
            "23/23 [==============================] - 0s 1ms/step - loss: 684.5634\n",
            "Epoch 14/50\n",
            "23/23 [==============================] - 0s 1ms/step - loss: 732.7680\n",
            "Epoch 15/50\n",
            "23/23 [==============================] - 0s 1ms/step - loss: 655.4658\n",
            "Epoch 16/50\n",
            "23/23 [==============================] - 0s 1ms/step - loss: 587.7188\n",
            "Epoch 17/50\n",
            "23/23 [==============================] - 0s 1ms/step - loss: 620.0681\n",
            "Epoch 18/50\n",
            "23/23 [==============================] - 0s 1ms/step - loss: 564.5639\n",
            "Epoch 19/50\n",
            "23/23 [==============================] - 0s 1ms/step - loss: 514.6587\n",
            "Epoch 20/50\n",
            "23/23 [==============================] - 0s 1ms/step - loss: 496.8653\n",
            "Epoch 21/50\n",
            "23/23 [==============================] - 0s 1ms/step - loss: 452.3487\n",
            "Epoch 22/50\n",
            "23/23 [==============================] - 0s 1ms/step - loss: 476.6319\n",
            "Epoch 23/50\n",
            "23/23 [==============================] - 0s 1ms/step - loss: 448.2825\n",
            "Epoch 24/50\n",
            "23/23 [==============================] - 0s 1ms/step - loss: 443.1917\n",
            "Epoch 25/50\n",
            "23/23 [==============================] - 0s 1ms/step - loss: 424.1651\n",
            "Epoch 26/50\n",
            "23/23 [==============================] - 0s 1ms/step - loss: 403.6785\n",
            "Epoch 27/50\n",
            "23/23 [==============================] - 0s 1ms/step - loss: 396.8694\n",
            "Epoch 28/50\n",
            "23/23 [==============================] - 0s 1ms/step - loss: 386.6653\n",
            "Epoch 29/50\n",
            "23/23 [==============================] - 0s 1ms/step - loss: 353.8526\n",
            "Epoch 30/50\n",
            "23/23 [==============================] - 0s 1ms/step - loss: 355.5968\n",
            "Epoch 31/50\n",
            "23/23 [==============================] - 0s 1ms/step - loss: 307.9781\n",
            "Epoch 32/50\n",
            "23/23 [==============================] - 0s 1ms/step - loss: 331.1972\n",
            "Epoch 33/50\n",
            "23/23 [==============================] - 0s 1ms/step - loss: 329.4557\n",
            "Epoch 34/50\n",
            "23/23 [==============================] - 0s 2ms/step - loss: 312.9275\n",
            "Epoch 35/50\n",
            "23/23 [==============================] - 0s 1ms/step - loss: 312.7140\n",
            "Epoch 36/50\n",
            "23/23 [==============================] - 0s 1ms/step - loss: 285.6357\n",
            "Epoch 37/50\n",
            "23/23 [==============================] - 0s 1ms/step - loss: 280.9510\n",
            "Epoch 38/50\n",
            "23/23 [==============================] - 0s 1ms/step - loss: 306.9221\n",
            "Epoch 39/50\n",
            "23/23 [==============================] - 0s 1ms/step - loss: 280.2083\n",
            "Epoch 40/50\n",
            "23/23 [==============================] - 0s 1ms/step - loss: 310.7300\n",
            "Epoch 41/50\n",
            "23/23 [==============================] - 0s 1ms/step - loss: 302.4655\n",
            "Epoch 42/50\n",
            "23/23 [==============================] - 0s 2ms/step - loss: 318.5444\n",
            "Epoch 43/50\n",
            "23/23 [==============================] - 0s 1ms/step - loss: 257.7353\n",
            "Epoch 44/50\n",
            "23/23 [==============================] - 0s 1ms/step - loss: 295.3795\n",
            "Epoch 45/50\n",
            "23/23 [==============================] - 0s 2ms/step - loss: 260.9107\n",
            "Epoch 46/50\n",
            "23/23 [==============================] - 0s 1ms/step - loss: 270.1590\n",
            "Epoch 47/50\n",
            "23/23 [==============================] - 0s 1ms/step - loss: 317.1224\n",
            "Epoch 48/50\n",
            "23/23 [==============================] - 0s 2ms/step - loss: 278.6397\n",
            "Epoch 49/50\n",
            "23/23 [==============================] - 0s 2ms/step - loss: 257.0214\n",
            "Epoch 50/50\n",
            "23/23 [==============================] - 0s 1ms/step - loss: 280.3191\n"
          ],
          "name": "stdout"
        },
        {
          "output_type": "execute_result",
          "data": {
            "text/plain": [
              "<tensorflow.python.keras.callbacks.History at 0x7fe96330ae90>"
            ]
          },
          "metadata": {
            "tags": []
          },
          "execution_count": 27
        }
      ]
    },
    {
      "cell_type": "code",
      "metadata": {
        "colab": {
          "base_uri": "https://localhost:8080/"
        },
        "id": "ENKOJc7D4NAg",
        "outputId": "a9a8446d-99bd-4561-9714-b1f00cc32ab7"
      },
      "source": [
        "loss_val = modelA.evaluate(X_test, y_test)\n",
        "loss_val"
      ],
      "execution_count": 28,
      "outputs": [
        {
          "output_type": "stream",
          "text": [
            "10/10 [==============================] - 0s 2ms/step - loss: 264.8420\n"
          ],
          "name": "stdout"
        },
        {
          "output_type": "execute_result",
          "data": {
            "text/plain": [
              "264.842041015625"
            ]
          },
          "metadata": {
            "tags": []
          },
          "execution_count": 28
        }
      ]
    },
    {
      "cell_type": "code",
      "metadata": {
        "id": "apS8BPON4NAg"
      },
      "source": [
        "y_hat = modelA.predict(X_test)"
      ],
      "execution_count": 29,
      "outputs": []
    },
    {
      "cell_type": "code",
      "metadata": {
        "colab": {
          "base_uri": "https://localhost:8080/"
        },
        "id": "yh3qmFdu4NAg",
        "outputId": "c65ed2e0-3a07-42bb-c963-fc0eb656ecf6"
      },
      "source": [
        "mse = mean_squared_error(y_test,y_hat)\n",
        "print(\"Mean Squared Error = {}\".format(mse))"
      ],
      "execution_count": 30,
      "outputs": [
        {
          "output_type": "stream",
          "text": [
            "Mean Squared Error = 264.84205271137705\n"
          ],
          "name": "stdout"
        }
      ]
    },
    {
      "cell_type": "code",
      "metadata": {
        "id": "gj38eJft4NAh"
      },
      "source": [
        "mse_lst = []\n",
        "for i in range(50):\n",
        "    X_train, X_test, y_train, y_test = train_test_split(predictors, target, test_size=0.3, random_state=6)\n",
        "    modelA = regression_model()\n",
        "    modelA.fit(X_train,y_train,epochs = 50, verbose = 0)\n",
        "    \n",
        "    y_hat = modelA.predict(X_test)\n",
        "    mse = mean_squared_error(y_test,y_hat)\n",
        "    mse_lst.append(mse)"
      ],
      "execution_count": 31,
      "outputs": []
    },
    {
      "cell_type": "code",
      "metadata": {
        "colab": {
          "base_uri": "https://localhost:8080/"
        },
        "id": "v1PgeQVP4NAi",
        "outputId": "d2af4553-facf-4c2b-90e2-2982a0152caa"
      },
      "source": [
        "mean = np.mean(mse_lst)\n",
        "standard_deviation = np.std(mse_lst)\n",
        "\n",
        "print(\"Mean = {}, Standard Deviation = {}\".format(mean,standard_deviation))"
      ],
      "execution_count": 32,
      "outputs": [
        {
          "output_type": "stream",
          "text": [
            "Mean = 322.68764682144445, Standard Deviation = 408.05683427218173\n"
          ],
          "name": "stdout"
        }
      ]
    },
    {
      "cell_type": "markdown",
      "metadata": {
        "button": false,
        "new_sheet": false,
        "run_control": {
          "read_only": false
        },
        "id": "-qOcugZI4NAj"
      },
      "source": [
        "<a id=\"item1\"></a>\n"
      ]
    },
    {
      "cell_type": "markdown",
      "metadata": {
        "button": false,
        "new_sheet": false,
        "run_control": {
          "read_only": false
        },
        "id": "QmJ6R_MA4NAj"
      },
      "source": [
        "## PART B\n",
        "\n",
        "#### Repeat Part A but use a normalized version of the data. Recall that one way to normalize the data is by subtracting the mean from the individual predictors and dividing by the standard deviation.\n"
      ]
    },
    {
      "cell_type": "code",
      "metadata": {
        "button": false,
        "new_sheet": false,
        "run_control": {
          "read_only": false
        },
        "colab": {
          "base_uri": "https://localhost:8080/",
          "height": 204
        },
        "id": "8UOF8a4A4NAj",
        "outputId": "bee81a22-7a45-4330-f5d7-7e0903ecb4ab"
      },
      "source": [
        "# Normalizing Predictors and printing the first five rows.\n",
        "predictors_norm = (predictors- predictors.mean())/predictors.std()\n",
        "predictors_norm.head()"
      ],
      "execution_count": 33,
      "outputs": [
        {
          "output_type": "execute_result",
          "data": {
            "text/html": [
              "<div>\n",
              "<style scoped>\n",
              "    .dataframe tbody tr th:only-of-type {\n",
              "        vertical-align: middle;\n",
              "    }\n",
              "\n",
              "    .dataframe tbody tr th {\n",
              "        vertical-align: top;\n",
              "    }\n",
              "\n",
              "    .dataframe thead th {\n",
              "        text-align: right;\n",
              "    }\n",
              "</style>\n",
              "<table border=\"1\" class=\"dataframe\">\n",
              "  <thead>\n",
              "    <tr style=\"text-align: right;\">\n",
              "      <th></th>\n",
              "      <th>Cement</th>\n",
              "      <th>Blast Furnace Slag</th>\n",
              "      <th>Fly Ash</th>\n",
              "      <th>Water</th>\n",
              "      <th>Superplasticizer</th>\n",
              "      <th>Coarse Aggregate</th>\n",
              "      <th>Fine Aggregate</th>\n",
              "      <th>Age</th>\n",
              "    </tr>\n",
              "  </thead>\n",
              "  <tbody>\n",
              "    <tr>\n",
              "      <th>0</th>\n",
              "      <td>2.476712</td>\n",
              "      <td>-0.856472</td>\n",
              "      <td>-0.846733</td>\n",
              "      <td>-0.916319</td>\n",
              "      <td>-0.620147</td>\n",
              "      <td>0.862735</td>\n",
              "      <td>-1.217079</td>\n",
              "      <td>-0.279597</td>\n",
              "    </tr>\n",
              "    <tr>\n",
              "      <th>1</th>\n",
              "      <td>2.476712</td>\n",
              "      <td>-0.856472</td>\n",
              "      <td>-0.846733</td>\n",
              "      <td>-0.916319</td>\n",
              "      <td>-0.620147</td>\n",
              "      <td>1.055651</td>\n",
              "      <td>-1.217079</td>\n",
              "      <td>-0.279597</td>\n",
              "    </tr>\n",
              "    <tr>\n",
              "      <th>2</th>\n",
              "      <td>0.491187</td>\n",
              "      <td>0.795140</td>\n",
              "      <td>-0.846733</td>\n",
              "      <td>2.174405</td>\n",
              "      <td>-1.038638</td>\n",
              "      <td>-0.526262</td>\n",
              "      <td>-2.239829</td>\n",
              "      <td>3.551340</td>\n",
              "    </tr>\n",
              "    <tr>\n",
              "      <th>3</th>\n",
              "      <td>0.491187</td>\n",
              "      <td>0.795140</td>\n",
              "      <td>-0.846733</td>\n",
              "      <td>2.174405</td>\n",
              "      <td>-1.038638</td>\n",
              "      <td>-0.526262</td>\n",
              "      <td>-2.239829</td>\n",
              "      <td>5.055221</td>\n",
              "    </tr>\n",
              "    <tr>\n",
              "      <th>4</th>\n",
              "      <td>-0.790075</td>\n",
              "      <td>0.678079</td>\n",
              "      <td>-0.846733</td>\n",
              "      <td>0.488555</td>\n",
              "      <td>-1.038638</td>\n",
              "      <td>0.070492</td>\n",
              "      <td>0.647569</td>\n",
              "      <td>4.976069</td>\n",
              "    </tr>\n",
              "  </tbody>\n",
              "</table>\n",
              "</div>"
            ],
            "text/plain": [
              "     Cement  Blast Furnace Slag  ...  Fine Aggregate       Age\n",
              "0  2.476712           -0.856472  ...       -1.217079 -0.279597\n",
              "1  2.476712           -0.856472  ...       -1.217079 -0.279597\n",
              "2  0.491187            0.795140  ...       -2.239829  3.551340\n",
              "3  0.491187            0.795140  ...       -2.239829  5.055221\n",
              "4 -0.790075            0.678079  ...        0.647569  4.976069\n",
              "\n",
              "[5 rows x 8 columns]"
            ]
          },
          "metadata": {
            "tags": []
          },
          "execution_count": 33
        }
      ]
    },
    {
      "cell_type": "code",
      "metadata": {
        "id": "80dizi2O4NAk"
      },
      "source": [
        "# Splitting the normalized data set for training and testing\n",
        "X_train_norm, X_test_norm, y_train_norm, y_test_norm = train_test_split(predictors_norm, target, test_size=0.3, random_state=6)"
      ],
      "execution_count": 34,
      "outputs": []
    },
    {
      "cell_type": "code",
      "metadata": {
        "colab": {
          "base_uri": "https://localhost:8080/"
        },
        "id": "JPeiBzCK4NAk",
        "outputId": "dd5f72ec-023a-4c1b-d542-0b0cf2c56ddd"
      },
      "source": [
        "#Build model for Part B and training it\n",
        "modelB = regression_model()\n",
        "epochs = 50\n",
        "modelB.fit(X_train_norm,y_train_norm,epochs = epochs, verbose = 1)"
      ],
      "execution_count": 35,
      "outputs": [
        {
          "output_type": "stream",
          "text": [
            "Epoch 1/50\n",
            "23/23 [==============================] - 0s 1ms/step - loss: 1489.6435\n",
            "Epoch 2/50\n",
            "23/23 [==============================] - 0s 1ms/step - loss: 1398.7024\n",
            "Epoch 3/50\n",
            "23/23 [==============================] - 0s 1ms/step - loss: 1403.3345\n",
            "Epoch 4/50\n",
            "23/23 [==============================] - 0s 995us/step - loss: 1416.5783\n",
            "Epoch 5/50\n",
            "23/23 [==============================] - 0s 1ms/step - loss: 1366.6486\n",
            "Epoch 6/50\n",
            "23/23 [==============================] - 0s 989us/step - loss: 1370.5165\n",
            "Epoch 7/50\n",
            "23/23 [==============================] - 0s 988us/step - loss: 1340.3466\n",
            "Epoch 8/50\n",
            "23/23 [==============================] - 0s 919us/step - loss: 1281.6114\n",
            "Epoch 9/50\n",
            "23/23 [==============================] - 0s 1ms/step - loss: 1403.0104\n",
            "Epoch 10/50\n",
            "23/23 [==============================] - 0s 1ms/step - loss: 1342.4880\n",
            "Epoch 11/50\n",
            "23/23 [==============================] - 0s 1ms/step - loss: 1205.0689\n",
            "Epoch 12/50\n",
            "23/23 [==============================] - 0s 925us/step - loss: 1255.8186\n",
            "Epoch 13/50\n",
            "23/23 [==============================] - 0s 1ms/step - loss: 1158.5222\n",
            "Epoch 14/50\n",
            "23/23 [==============================] - 0s 916us/step - loss: 1177.3653\n",
            "Epoch 15/50\n",
            "23/23 [==============================] - 0s 1ms/step - loss: 1168.0413\n",
            "Epoch 16/50\n",
            "23/23 [==============================] - 0s 1ms/step - loss: 1128.8262\n",
            "Epoch 17/50\n",
            "23/23 [==============================] - 0s 1ms/step - loss: 1067.3844\n",
            "Epoch 18/50\n",
            "23/23 [==============================] - 0s 1ms/step - loss: 1073.7587\n",
            "Epoch 19/50\n",
            "23/23 [==============================] - 0s 1ms/step - loss: 1058.6123\n",
            "Epoch 20/50\n",
            "23/23 [==============================] - 0s 938us/step - loss: 1000.6494\n",
            "Epoch 21/50\n",
            "23/23 [==============================] - 0s 1ms/step - loss: 1061.6958\n",
            "Epoch 22/50\n",
            "23/23 [==============================] - 0s 1ms/step - loss: 945.8280\n",
            "Epoch 23/50\n",
            "23/23 [==============================] - 0s 1ms/step - loss: 888.2319\n",
            "Epoch 24/50\n",
            "23/23 [==============================] - 0s 1ms/step - loss: 868.2996\n",
            "Epoch 25/50\n",
            "23/23 [==============================] - 0s 965us/step - loss: 858.6656\n",
            "Epoch 26/50\n",
            "23/23 [==============================] - 0s 1ms/step - loss: 797.5637\n",
            "Epoch 27/50\n",
            "23/23 [==============================] - 0s 966us/step - loss: 795.3952\n",
            "Epoch 28/50\n",
            "23/23 [==============================] - 0s 1ms/step - loss: 776.2100\n",
            "Epoch 29/50\n",
            "23/23 [==============================] - 0s 1ms/step - loss: 693.7088\n",
            "Epoch 30/50\n",
            "23/23 [==============================] - 0s 1ms/step - loss: 715.0967\n",
            "Epoch 31/50\n",
            "23/23 [==============================] - 0s 2ms/step - loss: 654.0230\n",
            "Epoch 32/50\n",
            "23/23 [==============================] - 0s 1ms/step - loss: 718.9543\n",
            "Epoch 33/50\n",
            "23/23 [==============================] - 0s 1ms/step - loss: 656.9750\n",
            "Epoch 34/50\n",
            "23/23 [==============================] - 0s 1ms/step - loss: 606.6551\n",
            "Epoch 35/50\n",
            "23/23 [==============================] - 0s 1ms/step - loss: 560.2621\n",
            "Epoch 36/50\n",
            "23/23 [==============================] - 0s 1ms/step - loss: 569.4977\n",
            "Epoch 37/50\n",
            "23/23 [==============================] - 0s 1ms/step - loss: 550.6552\n",
            "Epoch 38/50\n",
            "23/23 [==============================] - 0s 1ms/step - loss: 501.3254\n",
            "Epoch 39/50\n",
            "23/23 [==============================] - 0s 1ms/step - loss: 497.9947\n",
            "Epoch 40/50\n",
            "23/23 [==============================] - 0s 1ms/step - loss: 466.5894\n",
            "Epoch 41/50\n",
            "23/23 [==============================] - 0s 1ms/step - loss: 413.8288\n",
            "Epoch 42/50\n",
            "23/23 [==============================] - 0s 1ms/step - loss: 414.1586\n",
            "Epoch 43/50\n",
            "23/23 [==============================] - 0s 1ms/step - loss: 415.2166\n",
            "Epoch 44/50\n",
            "23/23 [==============================] - 0s 1ms/step - loss: 382.5193\n",
            "Epoch 45/50\n",
            "23/23 [==============================] - 0s 1ms/step - loss: 369.3781\n",
            "Epoch 46/50\n",
            "23/23 [==============================] - 0s 1ms/step - loss: 333.9247\n",
            "Epoch 47/50\n",
            "23/23 [==============================] - 0s 2ms/step - loss: 333.2441\n",
            "Epoch 48/50\n",
            "23/23 [==============================] - 0s 1ms/step - loss: 302.4799\n",
            "Epoch 49/50\n",
            "23/23 [==============================] - 0s 1ms/step - loss: 291.6006\n",
            "Epoch 50/50\n",
            "23/23 [==============================] - 0s 1ms/step - loss: 270.8204\n"
          ],
          "name": "stdout"
        },
        {
          "output_type": "execute_result",
          "data": {
            "text/plain": [
              "<tensorflow.python.keras.callbacks.History at 0x7fe95a894bd0>"
            ]
          },
          "metadata": {
            "tags": []
          },
          "execution_count": 35
        }
      ]
    },
    {
      "cell_type": "code",
      "metadata": {
        "colab": {
          "base_uri": "https://localhost:8080/"
        },
        "id": "Pr0W8nUY4NAk",
        "outputId": "126fb095-9e46-4236-e98a-a7b19dfef17e"
      },
      "source": [
        "# Evaluate the model on the test data set\n",
        "loss_valB = modelB.evaluate(X_test_norm, y_test_norm)\n",
        "loss_valB"
      ],
      "execution_count": 36,
      "outputs": [
        {
          "output_type": "stream",
          "text": [
            "10/10 [==============================] - 0s 1ms/step - loss: 375.3755\n"
          ],
          "name": "stdout"
        },
        {
          "output_type": "execute_result",
          "data": {
            "text/plain": [
              "375.3755187988281"
            ]
          },
          "metadata": {
            "tags": []
          },
          "execution_count": 36
        }
      ]
    },
    {
      "cell_type": "code",
      "metadata": {
        "id": "dJFSSKEy4NAl"
      },
      "source": [
        "y_hat_norm = modelB.predict(X_test_norm)"
      ],
      "execution_count": 37,
      "outputs": []
    },
    {
      "cell_type": "code",
      "metadata": {
        "colab": {
          "base_uri": "https://localhost:8080/"
        },
        "id": "LU8ifcaZ4NAl",
        "outputId": "fde996fb-5d3e-49a5-8ded-7a920a0ff8ab"
      },
      "source": [
        "mseB = mean_squared_error(y_test_norm,y_hat_norm)\n",
        "print(\"Mean Squared Error for normalized predictors = {}\".format(mseB))"
      ],
      "execution_count": 38,
      "outputs": [
        {
          "output_type": "stream",
          "text": [
            "Mean Squared Error for normalized predictors = 375.37555303703004\n"
          ],
          "name": "stdout"
        }
      ]
    },
    {
      "cell_type": "code",
      "metadata": {
        "id": "ztPYmb114NAl"
      },
      "source": [
        "mse_lst_B = []\n",
        "for i in range(50):\n",
        "    X_train_norm, X_test_norm, y_train_norm, y_test_norm = train_test_split(predictors_norm, target, test_size=0.3, random_state=6)\n",
        "    modelB = regression_model()\n",
        "    modelB.fit(X_train_norm,y_train_norm,epochs = 50, verbose = 0)\n",
        "    \n",
        "    y_hat_norm = modelB.predict(X_test_norm)\n",
        "    mseB = mean_squared_error(y_test_norm,y_hat_norm)\n",
        "    mse_lst_B.append(mseB)"
      ],
      "execution_count": 39,
      "outputs": []
    },
    {
      "cell_type": "code",
      "metadata": {
        "colab": {
          "base_uri": "https://localhost:8080/"
        },
        "id": "mzMUtYy64NAm",
        "outputId": "932fd747-73e0-438e-81f0-6044e2a6e3e5"
      },
      "source": [
        "mean_B = np.mean(mse_lst_B)\n",
        "standard_deviation_B = np.std(mse_lst_B)\n",
        "\n",
        "print(\"For Mean Squared Errors, Mean = {}, Standard Deviation = {}\".format(mean_B,standard_deviation_B))"
      ],
      "execution_count": 40,
      "outputs": [
        {
          "output_type": "stream",
          "text": [
            "For Mean Squared Errors, Mean = 427.937678727298, Standard Deviation = 114.11577155326906\n"
          ],
          "name": "stdout"
        }
      ]
    },
    {
      "cell_type": "markdown",
      "metadata": {
        "id": "34vU68cs4NAm"
      },
      "source": [
        "#### How does the mean of the mean squared errors compare to that from Step A?\n",
        "\n",
        "The mean of the mean squared error has gone up, but the standard deviation has gone down significantly. \n"
      ]
    },
    {
      "cell_type": "markdown",
      "metadata": {
        "button": false,
        "new_sheet": false,
        "run_control": {
          "read_only": false
        },
        "id": "1NLvpJWA4NAm"
      },
      "source": [
        "<a id=\"item4\"></a>\n"
      ]
    },
    {
      "cell_type": "markdown",
      "metadata": {
        "id": "ql8umiN-4NAn"
      },
      "source": [
        "<a id='item34'></a>\n"
      ]
    },
    {
      "cell_type": "markdown",
      "metadata": {
        "button": false,
        "new_sheet": false,
        "run_control": {
          "read_only": false
        },
        "id": "8e-OwgrN4NAn"
      },
      "source": [
        "## PART C\n",
        "\n",
        "### Repeat Part B but use 100 epochs this time for training.\n"
      ]
    },
    {
      "cell_type": "code",
      "metadata": {
        "button": false,
        "new_sheet": false,
        "run_control": {
          "read_only": false
        },
        "id": "XgoR7F-z4NAo"
      },
      "source": [
        "# Splitting the normalized data set for training and testing\n",
        "X_train_C, X_test_C, y_train_C, y_test_C = train_test_split(predictors_norm, target, test_size=0.3, random_state=6)"
      ],
      "execution_count": 41,
      "outputs": []
    },
    {
      "cell_type": "code",
      "metadata": {
        "colab": {
          "base_uri": "https://localhost:8080/"
        },
        "id": "Sirmdv9b4NAo",
        "outputId": "12196805-f0b7-4cd7-b215-c6ccbfe47705"
      },
      "source": [
        "#Build model for Part C and training it\n",
        "modelC = regression_model()\n",
        "epochs = 100\n",
        "modelC.fit(X_train_C,y_train_C,epochs = epochs, verbose = 1)"
      ],
      "execution_count": 42,
      "outputs": [
        {
          "output_type": "stream",
          "text": [
            "Epoch 1/100\n",
            "23/23 [==============================] - 1s 1ms/step - loss: 1445.4780\n",
            "Epoch 2/100\n",
            "23/23 [==============================] - 0s 1ms/step - loss: 1434.9959\n",
            "Epoch 3/100\n",
            "23/23 [==============================] - 0s 974us/step - loss: 1342.5035\n",
            "Epoch 4/100\n",
            "23/23 [==============================] - 0s 1ms/step - loss: 1386.2236\n",
            "Epoch 5/100\n",
            "23/23 [==============================] - 0s 1ms/step - loss: 1366.7898\n",
            "Epoch 6/100\n",
            "23/23 [==============================] - 0s 1ms/step - loss: 1370.0924\n",
            "Epoch 7/100\n",
            "23/23 [==============================] - 0s 1ms/step - loss: 1365.3393\n",
            "Epoch 8/100\n",
            "23/23 [==============================] - 0s 1ms/step - loss: 1381.1722\n",
            "Epoch 9/100\n",
            "23/23 [==============================] - 0s 1ms/step - loss: 1213.3177\n",
            "Epoch 10/100\n",
            "23/23 [==============================] - 0s 1ms/step - loss: 1275.7311\n",
            "Epoch 11/100\n",
            "23/23 [==============================] - 0s 1ms/step - loss: 1257.3839\n",
            "Epoch 12/100\n",
            "23/23 [==============================] - 0s 980us/step - loss: 1233.6924\n",
            "Epoch 13/100\n",
            "23/23 [==============================] - 0s 1ms/step - loss: 1273.6441\n",
            "Epoch 14/100\n",
            "23/23 [==============================] - 0s 1ms/step - loss: 1232.4943\n",
            "Epoch 15/100\n",
            "23/23 [==============================] - 0s 1ms/step - loss: 1154.0691\n",
            "Epoch 16/100\n",
            "23/23 [==============================] - 0s 1ms/step - loss: 1106.9472\n",
            "Epoch 17/100\n",
            "23/23 [==============================] - 0s 1ms/step - loss: 1079.6661\n",
            "Epoch 18/100\n",
            "23/23 [==============================] - 0s 2ms/step - loss: 1138.5688\n",
            "Epoch 19/100\n",
            "23/23 [==============================] - 0s 1ms/step - loss: 1082.4923\n",
            "Epoch 20/100\n",
            "23/23 [==============================] - 0s 945us/step - loss: 1013.0464\n",
            "Epoch 21/100\n",
            "23/23 [==============================] - 0s 1ms/step - loss: 1009.8897\n",
            "Epoch 22/100\n",
            "23/23 [==============================] - 0s 976us/step - loss: 966.4646\n",
            "Epoch 23/100\n",
            "23/23 [==============================] - 0s 1ms/step - loss: 935.4895\n",
            "Epoch 24/100\n",
            "23/23 [==============================] - 0s 1ms/step - loss: 883.2238\n",
            "Epoch 25/100\n",
            "23/23 [==============================] - 0s 950us/step - loss: 862.7499\n",
            "Epoch 26/100\n",
            "23/23 [==============================] - 0s 1ms/step - loss: 857.5876\n",
            "Epoch 27/100\n",
            "23/23 [==============================] - 0s 1ms/step - loss: 749.3697\n",
            "Epoch 28/100\n",
            "23/23 [==============================] - 0s 1ms/step - loss: 784.7682\n",
            "Epoch 29/100\n",
            "23/23 [==============================] - 0s 1ms/step - loss: 751.3331\n",
            "Epoch 30/100\n",
            "23/23 [==============================] - 0s 1ms/step - loss: 677.6382\n",
            "Epoch 31/100\n",
            "23/23 [==============================] - 0s 1ms/step - loss: 653.7342\n",
            "Epoch 32/100\n",
            "23/23 [==============================] - 0s 1ms/step - loss: 612.9410\n",
            "Epoch 33/100\n",
            "23/23 [==============================] - 0s 1ms/step - loss: 616.8238\n",
            "Epoch 34/100\n",
            "23/23 [==============================] - 0s 1ms/step - loss: 597.0086\n",
            "Epoch 35/100\n",
            "23/23 [==============================] - 0s 1ms/step - loss: 555.2945\n",
            "Epoch 36/100\n",
            "23/23 [==============================] - 0s 1ms/step - loss: 566.7114\n",
            "Epoch 37/100\n",
            "23/23 [==============================] - 0s 1ms/step - loss: 501.8922\n",
            "Epoch 38/100\n",
            "23/23 [==============================] - 0s 1ms/step - loss: 472.7935\n",
            "Epoch 39/100\n",
            "23/23 [==============================] - 0s 1ms/step - loss: 481.2644\n",
            "Epoch 40/100\n",
            "23/23 [==============================] - 0s 1ms/step - loss: 407.4099\n",
            "Epoch 41/100\n",
            "23/23 [==============================] - 0s 2ms/step - loss: 422.3243\n",
            "Epoch 42/100\n",
            "23/23 [==============================] - 0s 1ms/step - loss: 387.7057\n",
            "Epoch 43/100\n",
            "23/23 [==============================] - 0s 1ms/step - loss: 405.1545\n",
            "Epoch 44/100\n",
            "23/23 [==============================] - 0s 1ms/step - loss: 369.1346\n",
            "Epoch 45/100\n",
            "23/23 [==============================] - 0s 1ms/step - loss: 364.5814\n",
            "Epoch 46/100\n",
            "23/23 [==============================] - 0s 1ms/step - loss: 327.1105\n",
            "Epoch 47/100\n",
            "23/23 [==============================] - 0s 1ms/step - loss: 309.2542\n",
            "Epoch 48/100\n",
            "23/23 [==============================] - 0s 1ms/step - loss: 322.3089\n",
            "Epoch 49/100\n",
            "23/23 [==============================] - 0s 1ms/step - loss: 337.6561\n",
            "Epoch 50/100\n",
            "23/23 [==============================] - 0s 1ms/step - loss: 283.8324\n",
            "Epoch 51/100\n",
            "23/23 [==============================] - 0s 1ms/step - loss: 276.3211\n",
            "Epoch 52/100\n",
            "23/23 [==============================] - 0s 1ms/step - loss: 276.4451\n",
            "Epoch 53/100\n",
            "23/23 [==============================] - 0s 1ms/step - loss: 281.5431\n",
            "Epoch 54/100\n",
            "23/23 [==============================] - 0s 1ms/step - loss: 257.4091\n",
            "Epoch 55/100\n",
            "23/23 [==============================] - 0s 1ms/step - loss: 229.9277\n",
            "Epoch 56/100\n",
            "23/23 [==============================] - 0s 1ms/step - loss: 230.2459\n",
            "Epoch 57/100\n",
            "23/23 [==============================] - 0s 1ms/step - loss: 236.6412\n",
            "Epoch 58/100\n",
            "23/23 [==============================] - 0s 1ms/step - loss: 216.9673\n",
            "Epoch 59/100\n",
            "23/23 [==============================] - 0s 1ms/step - loss: 240.0103\n",
            "Epoch 60/100\n",
            "23/23 [==============================] - 0s 1ms/step - loss: 205.6760\n",
            "Epoch 61/100\n",
            "23/23 [==============================] - 0s 978us/step - loss: 223.7157\n",
            "Epoch 62/100\n",
            "23/23 [==============================] - 0s 1ms/step - loss: 199.2170\n",
            "Epoch 63/100\n",
            "23/23 [==============================] - 0s 1ms/step - loss: 202.9144\n",
            "Epoch 64/100\n",
            "23/23 [==============================] - 0s 1ms/step - loss: 194.4980\n",
            "Epoch 65/100\n",
            "23/23 [==============================] - 0s 1ms/step - loss: 197.9068\n",
            "Epoch 66/100\n",
            "23/23 [==============================] - 0s 1ms/step - loss: 177.3438\n",
            "Epoch 67/100\n",
            "23/23 [==============================] - 0s 1ms/step - loss: 190.7132\n",
            "Epoch 68/100\n",
            "23/23 [==============================] - 0s 1ms/step - loss: 171.9898\n",
            "Epoch 69/100\n",
            "23/23 [==============================] - 0s 1ms/step - loss: 186.8767\n",
            "Epoch 70/100\n",
            "23/23 [==============================] - 0s 989us/step - loss: 167.5299\n",
            "Epoch 71/100\n",
            "23/23 [==============================] - 0s 1ms/step - loss: 184.3821\n",
            "Epoch 72/100\n",
            "23/23 [==============================] - 0s 1ms/step - loss: 187.9638\n",
            "Epoch 73/100\n",
            "23/23 [==============================] - 0s 1ms/step - loss: 162.3532\n",
            "Epoch 74/100\n",
            "23/23 [==============================] - 0s 1ms/step - loss: 179.0019\n",
            "Epoch 75/100\n",
            "23/23 [==============================] - 0s 1ms/step - loss: 173.8045\n",
            "Epoch 76/100\n",
            "23/23 [==============================] - 0s 1ms/step - loss: 171.8197\n",
            "Epoch 77/100\n",
            "23/23 [==============================] - 0s 1ms/step - loss: 155.7990\n",
            "Epoch 78/100\n",
            "23/23 [==============================] - 0s 2ms/step - loss: 156.0808\n",
            "Epoch 79/100\n",
            "23/23 [==============================] - 0s 1ms/step - loss: 170.7323\n",
            "Epoch 80/100\n",
            "23/23 [==============================] - 0s 1ms/step - loss: 152.6506\n",
            "Epoch 81/100\n",
            "23/23 [==============================] - 0s 1ms/step - loss: 157.3173\n",
            "Epoch 82/100\n",
            "23/23 [==============================] - 0s 973us/step - loss: 151.4063\n",
            "Epoch 83/100\n",
            "23/23 [==============================] - 0s 1ms/step - loss: 162.3759\n",
            "Epoch 84/100\n",
            "23/23 [==============================] - 0s 1000us/step - loss: 154.2559\n",
            "Epoch 85/100\n",
            "23/23 [==============================] - 0s 1ms/step - loss: 146.8999\n",
            "Epoch 86/100\n",
            "23/23 [==============================] - 0s 1ms/step - loss: 156.1667\n",
            "Epoch 87/100\n",
            "23/23 [==============================] - 0s 1ms/step - loss: 148.8423\n",
            "Epoch 88/100\n",
            "23/23 [==============================] - 0s 1ms/step - loss: 159.5139\n",
            "Epoch 89/100\n",
            "23/23 [==============================] - 0s 1ms/step - loss: 135.1695\n",
            "Epoch 90/100\n",
            "23/23 [==============================] - 0s 1ms/step - loss: 147.7281\n",
            "Epoch 91/100\n",
            "23/23 [==============================] - 0s 1ms/step - loss: 151.1547\n",
            "Epoch 92/100\n",
            "23/23 [==============================] - 0s 1ms/step - loss: 136.5047\n",
            "Epoch 93/100\n",
            "23/23 [==============================] - 0s 1ms/step - loss: 126.2101\n",
            "Epoch 94/100\n",
            "23/23 [==============================] - 0s 1ms/step - loss: 138.7582\n",
            "Epoch 95/100\n",
            "23/23 [==============================] - 0s 1ms/step - loss: 136.0043\n",
            "Epoch 96/100\n",
            "23/23 [==============================] - 0s 1ms/step - loss: 131.4325\n",
            "Epoch 97/100\n",
            "23/23 [==============================] - 0s 1ms/step - loss: 134.6711\n",
            "Epoch 98/100\n",
            "23/23 [==============================] - 0s 1ms/step - loss: 127.2152\n",
            "Epoch 99/100\n",
            "23/23 [==============================] - 0s 2ms/step - loss: 141.9096\n",
            "Epoch 100/100\n",
            "23/23 [==============================] - 0s 1ms/step - loss: 128.3979\n"
          ],
          "name": "stdout"
        },
        {
          "output_type": "execute_result",
          "data": {
            "text/plain": [
              "<tensorflow.python.keras.callbacks.History at 0x7fe95a555550>"
            ]
          },
          "metadata": {
            "tags": []
          },
          "execution_count": 42
        }
      ]
    },
    {
      "cell_type": "code",
      "metadata": {
        "colab": {
          "base_uri": "https://localhost:8080/"
        },
        "id": "j5FHR61n4NAo",
        "outputId": "8e8f1205-00a6-4d5c-e44a-b9eb89f3aaa1"
      },
      "source": [
        "loss_valC = modelC.evaluate(X_test_C, y_test_C)\n",
        "loss_valC"
      ],
      "execution_count": 43,
      "outputs": [
        {
          "output_type": "stream",
          "text": [
            "10/10 [==============================] - 0s 1ms/step - loss: 175.2704\n"
          ],
          "name": "stdout"
        },
        {
          "output_type": "execute_result",
          "data": {
            "text/plain": [
              "175.27044677734375"
            ]
          },
          "metadata": {
            "tags": []
          },
          "execution_count": 43
        }
      ]
    },
    {
      "cell_type": "code",
      "metadata": {
        "id": "U2Id39QY4NAo"
      },
      "source": [
        "y_hat_C = modelC.predict(X_test_C)"
      ],
      "execution_count": 44,
      "outputs": []
    },
    {
      "cell_type": "code",
      "metadata": {
        "colab": {
          "base_uri": "https://localhost:8080/"
        },
        "id": "zsXa5QEM4NAp",
        "outputId": "81b2cfe9-e80f-4f5c-f5c2-22dd0e8b70b2"
      },
      "source": [
        "mseC = mean_squared_error(y_test_C,y_hat_C)\n",
        "print(\"Mean Squared Error for normalized predictors with 100 epoch training = {}\".format(mseC))"
      ],
      "execution_count": 45,
      "outputs": [
        {
          "output_type": "stream",
          "text": [
            "Mean Squared Error for normalized predictors with 100 epoch training = 175.27042669262588\n"
          ],
          "name": "stdout"
        }
      ]
    },
    {
      "cell_type": "code",
      "metadata": {
        "id": "VeQixAu14NAp"
      },
      "source": [
        "mse_lst_C = []\n",
        "for i in range(50):\n",
        "    X_train_C, X_test_C, y_train_C, y_test_C = train_test_split(predictors_norm, target, test_size=0.3, random_state=6)\n",
        "    modelC = regression_model()\n",
        "    modelC.fit(X_train_C,y_train_C,epochs = 100, verbose = 0)\n",
        "    \n",
        "    y_hat_C = modelC.predict(X_test_C)\n",
        "    mseC = mean_squared_error(y_test_C,y_hat_C)\n",
        "    mse_lst_C.append(mseC)"
      ],
      "execution_count": 46,
      "outputs": []
    },
    {
      "cell_type": "code",
      "metadata": {
        "colab": {
          "base_uri": "https://localhost:8080/"
        },
        "id": "kwCVo2X24NAp",
        "outputId": "f6b79e21-0f28-46db-b8f2-a8364d818619"
      },
      "source": [
        "mean_C = np.mean(mse_lst_C)\n",
        "standard_deviation_C = np.std(mse_lst_C)\n",
        "\n",
        "print(\"For Mean Squared Errors with 100 epochs for training, Mean = {}, Standard Deviation = {}\".format(mean_C,standard_deviation_C))"
      ],
      "execution_count": 47,
      "outputs": [
        {
          "output_type": "stream",
          "text": [
            "For Mean Squared Errors with 100 epochs for training, Mean = 192.08711314493897, Standard Deviation = 11.692718619343678\n"
          ],
          "name": "stdout"
        }
      ]
    },
    {
      "cell_type": "code",
      "metadata": {
        "colab": {
          "base_uri": "https://localhost:8080/"
        },
        "id": "2D_RGDfh4NAq",
        "outputId": "0abf919c-23df-47a9-8493-994a2ea89aeb"
      },
      "source": [
        "mean_change_percentage = ((mean_B - mean_C)/mean_B)*100\n",
        "print(\"The mean of the mean squared errors have decreased by {}% relative to 50 epoch training.\".format(mean_change_percentage))"
      ],
      "execution_count": 48,
      "outputs": [
        {
          "output_type": "stream",
          "text": [
            "The mean of the mean squared errors have decreased by 55.11329740437605% relative to 50 epoch training.\n"
          ],
          "name": "stdout"
        }
      ]
    },
    {
      "cell_type": "markdown",
      "metadata": {
        "id": "nUSU5OO64NAq"
      },
      "source": [
        "#### How does the mean of the mean squared errors compare to that from Step B?\n",
        "\n",
        "The mean squared error on the test set more than halved. Clearly, there was plenty of improvement to be gained with additional training. The standard deviation has gone down a lot as well."
      ]
    },
    {
      "cell_type": "markdown",
      "metadata": {
        "id": "CeW7XcWb4NAq"
      },
      "source": [
        "## PART D\n",
        "\n",
        "### Increase the number of hidden layers\n"
      ]
    },
    {
      "cell_type": "code",
      "metadata": {
        "id": "Q3SoFSUs4NAr"
      },
      "source": [
        "def regression_model_modified():\n",
        "    # creation of the model\n",
        "    model = Sequential()\n",
        "    model.add(Dense(10, activation = 'relu', input_shape = (n_cols,)))\n",
        "    model.add(Dense(10, activation = 'relu'))\n",
        "    model.add(Dense(10, activation = 'relu'))\n",
        "    model.add(Dense(1))\n",
        "    \n",
        "    # compile the model\n",
        "    model.compile(optimizer = 'adam', loss = 'mean_squared_error')\n",
        "    return model"
      ],
      "execution_count": 49,
      "outputs": []
    },
    {
      "cell_type": "code",
      "metadata": {
        "id": "VHYhNWTt4NAr"
      },
      "source": [
        "# Splitting the normalized data set for training and testing\n",
        "X_train_D, X_test_D, y_train_D, y_test_D = train_test_split(predictors_norm, target, test_size=0.3, random_state=6)"
      ],
      "execution_count": 50,
      "outputs": []
    },
    {
      "cell_type": "code",
      "metadata": {
        "colab": {
          "base_uri": "https://localhost:8080/"
        },
        "id": "le-qNAuD4NAr",
        "outputId": "0c77b734-9c36-400c-a9d7-bfc6e6696931"
      },
      "source": [
        "# Build model for Part D and training it\n",
        "modelD = regression_model_modified()\n",
        "epochs = 50\n",
        "modelD.fit(X_train_D,y_train_D,epochs = epochs, verbose = 1)"
      ],
      "execution_count": 51,
      "outputs": [
        {
          "output_type": "stream",
          "text": [
            "Epoch 1/50\n",
            "23/23 [==============================] - 0s 1ms/step - loss: 1422.6103\n",
            "Epoch 2/50\n",
            "23/23 [==============================] - 0s 1ms/step - loss: 1499.7356\n",
            "Epoch 3/50\n",
            "23/23 [==============================] - 0s 1ms/step - loss: 1469.1653\n",
            "Epoch 4/50\n",
            "23/23 [==============================] - 0s 1ms/step - loss: 1369.2741\n",
            "Epoch 5/50\n",
            "23/23 [==============================] - 0s 1ms/step - loss: 1331.1614\n",
            "Epoch 6/50\n",
            "23/23 [==============================] - 0s 1ms/step - loss: 1343.5673\n",
            "Epoch 7/50\n",
            "23/23 [==============================] - 0s 1ms/step - loss: 1173.9593\n",
            "Epoch 8/50\n",
            "23/23 [==============================] - 0s 1ms/step - loss: 1035.2273\n",
            "Epoch 9/50\n",
            "23/23 [==============================] - 0s 1ms/step - loss: 785.1913\n",
            "Epoch 10/50\n",
            "23/23 [==============================] - 0s 1ms/step - loss: 573.7735\n",
            "Epoch 11/50\n",
            "23/23 [==============================] - 0s 1ms/step - loss: 428.1438\n",
            "Epoch 12/50\n",
            "23/23 [==============================] - 0s 1ms/step - loss: 307.5234\n",
            "Epoch 13/50\n",
            "23/23 [==============================] - 0s 1ms/step - loss: 264.7570\n",
            "Epoch 14/50\n",
            "23/23 [==============================] - 0s 1ms/step - loss: 233.0660\n",
            "Epoch 15/50\n",
            "23/23 [==============================] - 0s 1ms/step - loss: 210.3598\n",
            "Epoch 16/50\n",
            "23/23 [==============================] - 0s 1ms/step - loss: 193.0469\n",
            "Epoch 17/50\n",
            "23/23 [==============================] - 0s 2ms/step - loss: 183.2171\n",
            "Epoch 18/50\n",
            "23/23 [==============================] - 0s 1ms/step - loss: 177.8929\n",
            "Epoch 19/50\n",
            "23/23 [==============================] - 0s 1ms/step - loss: 181.8318\n",
            "Epoch 20/50\n",
            "23/23 [==============================] - 0s 1ms/step - loss: 152.7897\n",
            "Epoch 21/50\n",
            "23/23 [==============================] - 0s 2ms/step - loss: 171.5562\n",
            "Epoch 22/50\n",
            "23/23 [==============================] - 0s 1ms/step - loss: 164.0590\n",
            "Epoch 23/50\n",
            "23/23 [==============================] - 0s 1ms/step - loss: 178.2748\n",
            "Epoch 24/50\n",
            "23/23 [==============================] - 0s 1ms/step - loss: 154.7531\n",
            "Epoch 25/50\n",
            "23/23 [==============================] - 0s 1ms/step - loss: 142.1766\n",
            "Epoch 26/50\n",
            "23/23 [==============================] - 0s 1ms/step - loss: 138.7793\n",
            "Epoch 27/50\n",
            "23/23 [==============================] - 0s 1ms/step - loss: 149.6052\n",
            "Epoch 28/50\n",
            "23/23 [==============================] - 0s 1ms/step - loss: 149.0368\n",
            "Epoch 29/50\n",
            "23/23 [==============================] - 0s 2ms/step - loss: 141.8881\n",
            "Epoch 30/50\n",
            "23/23 [==============================] - 0s 1ms/step - loss: 142.7244\n",
            "Epoch 31/50\n",
            "23/23 [==============================] - 0s 1ms/step - loss: 142.4112\n",
            "Epoch 32/50\n",
            "23/23 [==============================] - 0s 1ms/step - loss: 137.0506\n",
            "Epoch 33/50\n",
            "23/23 [==============================] - 0s 1ms/step - loss: 139.6343\n",
            "Epoch 34/50\n",
            "23/23 [==============================] - 0s 1ms/step - loss: 133.4203\n",
            "Epoch 35/50\n",
            "23/23 [==============================] - 0s 1ms/step - loss: 128.7864\n",
            "Epoch 36/50\n",
            "23/23 [==============================] - 0s 2ms/step - loss: 135.4474\n",
            "Epoch 37/50\n",
            "23/23 [==============================] - 0s 1ms/step - loss: 124.3970\n",
            "Epoch 38/50\n",
            "23/23 [==============================] - 0s 1ms/step - loss: 124.7455\n",
            "Epoch 39/50\n",
            "23/23 [==============================] - 0s 1ms/step - loss: 127.8364\n",
            "Epoch 40/50\n",
            "23/23 [==============================] - 0s 1ms/step - loss: 131.8099\n",
            "Epoch 41/50\n",
            "23/23 [==============================] - 0s 2ms/step - loss: 133.7089\n",
            "Epoch 42/50\n",
            "23/23 [==============================] - 0s 1ms/step - loss: 117.5849\n",
            "Epoch 43/50\n",
            "23/23 [==============================] - 0s 1ms/step - loss: 129.4523\n",
            "Epoch 44/50\n",
            "23/23 [==============================] - 0s 1ms/step - loss: 121.5708\n",
            "Epoch 45/50\n",
            "23/23 [==============================] - 0s 1ms/step - loss: 127.4689\n",
            "Epoch 46/50\n",
            "23/23 [==============================] - 0s 1ms/step - loss: 122.7151\n",
            "Epoch 47/50\n",
            "23/23 [==============================] - 0s 1ms/step - loss: 122.4837\n",
            "Epoch 48/50\n",
            "23/23 [==============================] - 0s 1ms/step - loss: 113.7359\n",
            "Epoch 49/50\n",
            "23/23 [==============================] - 0s 1ms/step - loss: 111.2763\n",
            "Epoch 50/50\n",
            "23/23 [==============================] - 0s 1ms/step - loss: 123.6480\n"
          ],
          "name": "stdout"
        },
        {
          "output_type": "execute_result",
          "data": {
            "text/plain": [
              "<tensorflow.python.keras.callbacks.History at 0x7fe95a858710>"
            ]
          },
          "metadata": {
            "tags": []
          },
          "execution_count": 51
        }
      ]
    },
    {
      "cell_type": "code",
      "metadata": {
        "colab": {
          "base_uri": "https://localhost:8080/"
        },
        "id": "31wbg0kA4NAs",
        "outputId": "814c211d-8f3d-4ac6-f453-4f3dd48ad75d"
      },
      "source": [
        "loss_valD = modelD.evaluate(X_test_D, y_test_D)\n",
        "loss_valD"
      ],
      "execution_count": 52,
      "outputs": [
        {
          "output_type": "stream",
          "text": [
            "10/10 [==============================] - 0s 1ms/step - loss: 160.6094\n"
          ],
          "name": "stdout"
        },
        {
          "output_type": "execute_result",
          "data": {
            "text/plain": [
              "160.609375"
            ]
          },
          "metadata": {
            "tags": []
          },
          "execution_count": 52
        }
      ]
    },
    {
      "cell_type": "code",
      "metadata": {
        "id": "t2pv0oL44NAs"
      },
      "source": [
        "y_hat_D = modelD.predict(X_test_D)"
      ],
      "execution_count": 53,
      "outputs": []
    },
    {
      "cell_type": "code",
      "metadata": {
        "colab": {
          "base_uri": "https://localhost:8080/"
        },
        "id": "TfnDMiJl4NAt",
        "outputId": "59850208-db60-4f86-9cf8-bb28a40c2037"
      },
      "source": [
        "mseD = mean_squared_error(y_test_D,y_hat_D)\n",
        "print(\"Mean Squared Error for normalized predictors with 3 dense layer network = {}\".format(mseD))"
      ],
      "execution_count": 54,
      "outputs": [
        {
          "output_type": "stream",
          "text": [
            "Mean Squared Error for normalized predictors with 3 dense layer network = 160.60937780058927\n"
          ],
          "name": "stdout"
        }
      ]
    },
    {
      "cell_type": "code",
      "metadata": {
        "id": "LaYipoN84NAt"
      },
      "source": [
        "mse_lst_D = []\n",
        "for i in range(50):\n",
        "    X_train_D, X_test_D, y_train_D, y_test_D = train_test_split(predictors_norm, target, test_size=0.3, random_state=6)\n",
        "    modelD = regression_model_modified()\n",
        "    modelD.fit(X_train_D,y_train_D,epochs = 50, verbose = 0)\n",
        "    \n",
        "    y_hat_D = modelD.predict(X_test_D)\n",
        "    mseD = mean_squared_error(y_test_D,y_hat_D)\n",
        "    mse_lst_D.append(mseD)"
      ],
      "execution_count": 55,
      "outputs": []
    },
    {
      "cell_type": "code",
      "metadata": {
        "colab": {
          "base_uri": "https://localhost:8080/"
        },
        "id": "8jez0jh74NAu",
        "outputId": "d82ec361-4e59-4207-b025-db551c4f31f2"
      },
      "source": [
        "mean_D = np.mean(mse_lst_D)\n",
        "standard_deviation_D = np.std(mse_lst_D)\n",
        "\n",
        "print(\"For Mean Squared Errors with 3 dense layer network, Mean = {}, Standard Deviation = {}\".format(mean_D,standard_deviation_D))"
      ],
      "execution_count": 56,
      "outputs": [
        {
          "output_type": "stream",
          "text": [
            "For Mean Squared Errors with 3 dense layer network, Mean = 151.49690558692168, Standard Deviation = 15.400859145007217\n"
          ],
          "name": "stdout"
        }
      ]
    },
    {
      "cell_type": "code",
      "metadata": {
        "colab": {
          "base_uri": "https://localhost:8080/"
        },
        "id": "-VVDvECU4NAu",
        "outputId": "f94f9768-9f47-4aab-b4ae-5869bbe55abc"
      },
      "source": [
        "mean_change_percentage2 = ((mean_B - mean_D)/mean_B)*100\n",
        "print(\"The mean of the mean squared errors have decreased by {}% relative to 1 dense layer network.\".format(mean_change_percentage2))"
      ],
      "execution_count": 57,
      "outputs": [
        {
          "output_type": "stream",
          "text": [
            "The mean of the mean squared errors have decreased by 64.59837188501865% relative to 1 dense layer network.\n"
          ],
          "name": "stdout"
        }
      ]
    },
    {
      "cell_type": "markdown",
      "metadata": {
        "id": "H-mdE76a4NAu"
      },
      "source": [
        "### How does the mean of the mean squared errors compare to that from Step B?\n",
        "\n",
        "The mean of the mean squared errors is a lot better than in part B.\n",
        "This shows that the network with multiple hidden layers was significantly better at learning to predict the 'Strength' feature than the single layer network."
      ]
    }
  ]
}